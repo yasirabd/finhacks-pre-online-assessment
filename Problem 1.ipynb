{
 "cells": [
  {
   "cell_type": "markdown",
   "metadata": {},
   "source": [
    "### Author: Yasir Abdurrahman"
   ]
  },
  {
   "cell_type": "code",
   "execution_count": 1,
   "metadata": {},
   "outputs": [],
   "source": [
    "import numpy as np\n",
    "import pandas as pd\n",
    "import matplotlib.pyplot as plt"
   ]
  },
  {
   "cell_type": "code",
   "execution_count": 2,
   "metadata": {},
   "outputs": [],
   "source": [
    "df_train = pd.read_csv('dataset1/train1.csv')"
   ]
  },
  {
   "cell_type": "markdown",
   "metadata": {},
   "source": [
    "## Dataset\n",
    "### Description\n",
    "Dataset berikut merupakan data demografi 1556 nasabah bank pada kuarter ke-4 tahun 2017, data ini kemudian dibagi menjadi data train dan test. Variabel target pada data ini adalah `not_paid`, variabel biner yang menjadi indikasi suatu loan/ pinjaman lunas (berhasil dilunasi pembayarannya) atau tidak. Suatu pinjaman dikatakan not_paid (not paid = 1) jika terjadi default (gagal bayar), Charged Off, atau lewat batas akhir pembayaran (Grace Period).\n",
    "\n",
    "### Variables Glossary\n",
    "- <code>initial_list_status</code>: indikasi loan termasuk ke dalam kategori <code>w</code> (whole) atau <code>f</code> (fractional).\n",
    "- <code>purpose</code>: tujuan peminjaman (loan) terbagi atas 5 kategori yaitu untuk credit_card, debt_consolidation, home_improvement, major_purchase, dan small_bussiness\n",
    "- <code>int_rate</code>: interest rate(suku bunga) dalam prosentase\n",
    "- <code>installment</code>: banyaknya installment/uang bulanan yang dibayarkan peminjam\n",
    "- <code>annual_inc</code>: income/pemasukan tahunan peminjam sesuai yang tertulis saat proses pengajuan pinjaman\n",
    "- <code>dti</code>: rasio antara pinjaman bulanan yang wajib dibayarkan peminjam dengan gaji/pemasukan peminjam sesuai report\n",
    "- <code>verification_status</code>: status verifikasi report pemasukan/gaji peminjam, terbagi atas kategori income_verified, not verified, atau source was verified\n",
    "- <code>grade</code>: grade load berdasarkan software\n",
    "- <code>revol_bal</code>: total kredit dalam revolving balance (pinjaman yang tidak terbayarkan)\n",
    "- <code>inq_last_12m</code>: banyaknya kredit/pinjaman pada akhir bulan 12\n",
    "- <code>delinq_2yrs</code>: banyaknya hari telat bayar untuk kriteria 30+ pada history peminjam selama 2 tahun terakhir\n",
    "- <code>home_ownership</code>: kategori kepemilikan rumah peminjam meliputi MORTGAGE, OWN, atau RENT\n",
    "- <code>log_inc</code>: log dari annual_inc\n",
    "- <code>verified</code>: 0 untuk <code>not_verified</code> masih dibawah status verifikasi, 1 lainnya\n",
    "- <code>grdCtoA</code>: 1 untuk grade kredit A, B atau C; 0 untuk grade load lainnya\n",
    "- <code><b>not_paid</b></code>: 1 jika gagal bayar _charge off/grace period_, 0 lainnya (TARGET)"
   ]
  },
  {
   "cell_type": "code",
   "execution_count": 3,
   "metadata": {},
   "outputs": [
    {
     "data": {
      "text/html": [
       "<div>\n",
       "<style scoped>\n",
       "    .dataframe tbody tr th:only-of-type {\n",
       "        vertical-align: middle;\n",
       "    }\n",
       "\n",
       "    .dataframe tbody tr th {\n",
       "        vertical-align: top;\n",
       "    }\n",
       "\n",
       "    .dataframe thead th {\n",
       "        text-align: right;\n",
       "    }\n",
       "</style>\n",
       "<table border=\"1\" class=\"dataframe\">\n",
       "  <thead>\n",
       "    <tr style=\"text-align: right;\">\n",
       "      <th></th>\n",
       "      <th>Unnamed: 0</th>\n",
       "      <th>initial_list_status</th>\n",
       "      <th>purpose</th>\n",
       "      <th>int_rate</th>\n",
       "      <th>installment</th>\n",
       "      <th>annual_inc</th>\n",
       "      <th>dti</th>\n",
       "      <th>verification_status</th>\n",
       "      <th>grade</th>\n",
       "      <th>revol_bal</th>\n",
       "      <th>inq_last_12m</th>\n",
       "      <th>delinq_2yrs</th>\n",
       "      <th>home_ownership</th>\n",
       "      <th>not_paid</th>\n",
       "      <th>log_inc</th>\n",
       "      <th>verified</th>\n",
       "      <th>grdCtoA</th>\n",
       "    </tr>\n",
       "  </thead>\n",
       "  <tbody>\n",
       "    <tr>\n",
       "      <th>0</th>\n",
       "      <td>1495</td>\n",
       "      <td>w</td>\n",
       "      <td>debt_consolidation</td>\n",
       "      <td>21.45</td>\n",
       "      <td>955.75</td>\n",
       "      <td>90000.0</td>\n",
       "      <td>20.91</td>\n",
       "      <td>Verified</td>\n",
       "      <td>D</td>\n",
       "      <td>23448</td>\n",
       "      <td>4</td>\n",
       "      <td>0</td>\n",
       "      <td>MORTGAGE</td>\n",
       "      <td>1</td>\n",
       "      <td>11.407565</td>\n",
       "      <td>1</td>\n",
       "      <td>0</td>\n",
       "    </tr>\n",
       "    <tr>\n",
       "      <th>1</th>\n",
       "      <td>266</td>\n",
       "      <td>w</td>\n",
       "      <td>debt_consolidation</td>\n",
       "      <td>18.06</td>\n",
       "      <td>289.47</td>\n",
       "      <td>65000.0</td>\n",
       "      <td>12.74</td>\n",
       "      <td>Source Verified</td>\n",
       "      <td>D</td>\n",
       "      <td>13362</td>\n",
       "      <td>2</td>\n",
       "      <td>0</td>\n",
       "      <td>MORTGAGE</td>\n",
       "      <td>1</td>\n",
       "      <td>11.082143</td>\n",
       "      <td>1</td>\n",
       "      <td>0</td>\n",
       "    </tr>\n",
       "    <tr>\n",
       "      <th>2</th>\n",
       "      <td>309</td>\n",
       "      <td>w</td>\n",
       "      <td>home_improvement</td>\n",
       "      <td>9.44</td>\n",
       "      <td>838.91</td>\n",
       "      <td>97400.0</td>\n",
       "      <td>12.64</td>\n",
       "      <td>Source Verified</td>\n",
       "      <td>B</td>\n",
       "      <td>2372</td>\n",
       "      <td>1</td>\n",
       "      <td>0</td>\n",
       "      <td>MORTGAGE</td>\n",
       "      <td>1</td>\n",
       "      <td>11.486581</td>\n",
       "      <td>1</td>\n",
       "      <td>1</td>\n",
       "    </tr>\n",
       "    <tr>\n",
       "      <th>3</th>\n",
       "      <td>239</td>\n",
       "      <td>w</td>\n",
       "      <td>home_improvement</td>\n",
       "      <td>10.42</td>\n",
       "      <td>214.55</td>\n",
       "      <td>60000.0</td>\n",
       "      <td>2.38</td>\n",
       "      <td>Not Verified</td>\n",
       "      <td>B</td>\n",
       "      <td>4705</td>\n",
       "      <td>2</td>\n",
       "      <td>0</td>\n",
       "      <td>OWN</td>\n",
       "      <td>0</td>\n",
       "      <td>11.002100</td>\n",
       "      <td>0</td>\n",
       "      <td>1</td>\n",
       "    </tr>\n",
       "    <tr>\n",
       "      <th>4</th>\n",
       "      <td>136</td>\n",
       "      <td>f</td>\n",
       "      <td>debt_consolidation</td>\n",
       "      <td>11.99</td>\n",
       "      <td>1024.52</td>\n",
       "      <td>150000.0</td>\n",
       "      <td>20.84</td>\n",
       "      <td>Not Verified</td>\n",
       "      <td>B</td>\n",
       "      <td>14342</td>\n",
       "      <td>0</td>\n",
       "      <td>0</td>\n",
       "      <td>MORTGAGE</td>\n",
       "      <td>0</td>\n",
       "      <td>11.918391</td>\n",
       "      <td>0</td>\n",
       "      <td>1</td>\n",
       "    </tr>\n",
       "  </tbody>\n",
       "</table>\n",
       "</div>"
      ],
      "text/plain": [
       "   Unnamed: 0 initial_list_status             purpose  int_rate  installment  \\\n",
       "0        1495                   w  debt_consolidation     21.45       955.75   \n",
       "1         266                   w  debt_consolidation     18.06       289.47   \n",
       "2         309                   w    home_improvement      9.44       838.91   \n",
       "3         239                   w    home_improvement     10.42       214.55   \n",
       "4         136                   f  debt_consolidation     11.99      1024.52   \n",
       "\n",
       "   annual_inc    dti verification_status grade  revol_bal  inq_last_12m  \\\n",
       "0     90000.0  20.91            Verified     D      23448             4   \n",
       "1     65000.0  12.74     Source Verified     D      13362             2   \n",
       "2     97400.0  12.64     Source Verified     B       2372             1   \n",
       "3     60000.0   2.38        Not Verified     B       4705             2   \n",
       "4    150000.0  20.84        Not Verified     B      14342             0   \n",
       "\n",
       "   delinq_2yrs home_ownership  not_paid    log_inc  verified  grdCtoA  \n",
       "0            0       MORTGAGE         1  11.407565         1        0  \n",
       "1            0       MORTGAGE         1  11.082143         1        0  \n",
       "2            0       MORTGAGE         1  11.486581         1        1  \n",
       "3            0            OWN         0  11.002100         0        1  \n",
       "4            0       MORTGAGE         0  11.918391         0        1  "
      ]
     },
     "execution_count": 3,
     "metadata": {},
     "output_type": "execute_result"
    }
   ],
   "source": [
    "df_train.head()"
   ]
  },
  {
   "cell_type": "markdown",
   "metadata": {},
   "source": [
    "# Explore Dataset"
   ]
  },
  {
   "cell_type": "code",
   "execution_count": 4,
   "metadata": {},
   "outputs": [
    {
     "name": "stdout",
     "output_type": "stream",
     "text": [
      "<class 'pandas.core.frame.DataFrame'>\n",
      "RangeIndex: 1244 entries, 0 to 1243\n",
      "Data columns (total 17 columns):\n",
      "Unnamed: 0             1244 non-null int64\n",
      "initial_list_status    1244 non-null object\n",
      "purpose                1244 non-null object\n",
      "int_rate               1244 non-null float64\n",
      "installment            1244 non-null float64\n",
      "annual_inc             1244 non-null float64\n",
      "dti                    1244 non-null float64\n",
      "verification_status    1244 non-null object\n",
      "grade                  1244 non-null object\n",
      "revol_bal              1244 non-null int64\n",
      "inq_last_12m           1244 non-null int64\n",
      "delinq_2yrs            1244 non-null int64\n",
      "home_ownership         1244 non-null object\n",
      "not_paid               1244 non-null int64\n",
      "log_inc                1244 non-null float64\n",
      "verified               1244 non-null int64\n",
      "grdCtoA                1244 non-null int64\n",
      "dtypes: float64(5), int64(7), object(5)\n",
      "memory usage: 165.3+ KB\n"
     ]
    }
   ],
   "source": [
    "df_train.info()"
   ]
  },
  {
   "cell_type": "code",
   "execution_count": 5,
   "metadata": {},
   "outputs": [
    {
     "data": {
      "image/png": "[encoded data removed]",
      "text/plain": [
       "<Figure size 1440x1080 with 12 Axes>"
      ]
     },
     "metadata": {},
     "output_type": "display_data"
    }
   ],
   "source": [
    "%matplotlib inline\n",
    "df_train.hist(bins=50, figsize=(20,15))\n",
    "plt.show()"
   ]
  },
  {
   "cell_type": "markdown",
   "metadata": {},
   "source": [
    "## Question 1: \n",
    "Bagaimana anda mendeskripsikan hubungan antara `annual_inc` dan `revol_bal`?\n",
    "\n",
    "**Answer**: Tidak ada hubungan linier"
   ]
  },
  {
   "cell_type": "code",
   "execution_count": 6,
   "metadata": {},
   "outputs": [
    {
     "data": {
      "text/plain": [
       "Text(0,0.5,'Revolving Balance')"
      ]
     },
     "execution_count": 6,
     "metadata": {},
     "output_type": "execute_result"
    },
    {
     "data": {
      "image/png": "[encoded data removed]",
      "text/plain": [
       "<Figure size 432x288 with 1 Axes>"
      ]
     },
     "metadata": {},
     "output_type": "display_data"
    }
   ],
   "source": [
    "# plot 'annual_inc' dan 'revol_bal'\n",
    "plt.plot(df_train['annual_inc'], df_train['revol_bal'], 'ro')\n",
    "plt.xlabel('Annual Income')\n",
    "plt.ylabel('Revolving Balance')"
   ]
  },
  {
   "cell_type": "markdown",
   "metadata": {},
   "source": [
    "## Question 2: \n",
    "Berdasarkan kategori purpose (tujuan pinjaman) yang paling banyak ditemukan nasabah mengalami gagal bayar(not_paid=1), berapa banyak nasabah yang mengalami gagal bayar pada kategori tersebut? \n",
    "\n",
    "**Answer**: debt_consolidation -> 420"
   ]
  },
  {
   "cell_type": "code",
   "execution_count": 7,
   "metadata": {},
   "outputs": [],
   "source": [
    "purpose_not_paid = []\n",
    "\n",
    "for index, row in df_train.iterrows():\n",
    "    if row['not_paid'] == 1:\n",
    "        purpose_not_paid.append(row['purpose'])"
   ]
  },
  {
   "cell_type": "code",
   "execution_count": 8,
   "metadata": {},
   "outputs": [
    {
     "data": {
      "text/plain": [
       "Counter({'debt_consolidation': 420,\n",
       "         'home_improvement': 58,\n",
       "         'small_business': 15,\n",
       "         'major_purchase': 22,\n",
       "         'credit_card': 112})"
      ]
     },
     "execution_count": 8,
     "metadata": {},
     "output_type": "execute_result"
    }
   ],
   "source": [
    "from collections import Counter\n",
    "\n",
    "Counter(purpose_not_paid)"
   ]
  },
  {
   "cell_type": "code",
   "execution_count": 9,
   "metadata": {},
   "outputs": [
    {
     "data": {
      "text/plain": [
       "(array([420.,   0.,  58.,   0.,   0.,  15.,   0.,  22.,   0., 112.]),\n",
       " array([0. , 0.4, 0.8, 1.2, 1.6, 2. , 2.4, 2.8, 3.2, 3.6, 4. ]),\n",
       " <a list of 10 Patch objects>)"
      ]
     },
     "execution_count": 9,
     "metadata": {},
     "output_type": "execute_result"
    },
    {
     "data": {
      "image/png": "[encoded data removed]",
      "text/plain": [
       "<Figure size 432x288 with 1 Axes>"
      ]
     },
     "metadata": {},
     "output_type": "display_data"
    }
   ],
   "source": [
    "plt.hist(purpose_not_paid)"
   ]
  },
  {
   "cell_type": "markdown",
   "metadata": {},
   "source": [
    "## Question 3: \n",
    "Apakah data loan (dataset 1) tersebut dikategorikan sebagai data yang akan mengalami masalah 'imbalanced class'? \n",
    "\n",
    "**Answer**: Tidak"
   ]
  },
  {
   "cell_type": "code",
   "execution_count": 10,
   "metadata": {},
   "outputs": [
    {
     "data": {
      "text/plain": [
       "<matplotlib.axes._subplots.AxesSubplot at 0x174e8fda630>"
      ]
     },
     "execution_count": 10,
     "metadata": {},
     "output_type": "execute_result"
    },
    {
     "data": {
      "image/png": "[encoded data removed]",
      "text/plain": [
       "<Figure size 432x288 with 1 Axes>"
      ]
     },
     "metadata": {},
     "output_type": "display_data"
    }
   ],
   "source": [
    "df_train['not_paid'].hist()"
   ]
  },
  {
   "cell_type": "markdown",
   "metadata": {},
   "source": [
    "Menggunakan train dataset 1, buat sebuah model regresi logistik untuk memprediksi peluang default (not_paid) nasabah dengan variabel `purpose`, `int_rate`, `installment`, `annual_inc`, `verified`, `home_ownership` dan `grdCtoA` sebagai variabel prediktornya. "
   ]
  },
  {
   "cell_type": "markdown",
   "metadata": {},
   "source": [
    "## Question 4: \n",
    "Variabel manakah yang memiliki korelasi negatif terhadap kenaikan odds default (not_paid=1)?\n",
    "\n",
    "**Answer**:"
   ]
  },
  {
   "cell_type": "code",
   "execution_count": 11,
   "metadata": {},
   "outputs": [],
   "source": [
    "used_variables = ['purpose', 'int_rate', 'installment', 'annual_inc', 'verified', 'home_ownership', 'grdCtoA', 'not_paid']\n",
    "\n",
    "nasabah = df_train[used_variables]"
   ]
  },
  {
   "cell_type": "code",
   "execution_count": 12,
   "metadata": {},
   "outputs": [
    {
     "data": {
      "text/plain": [
       "not_paid       1.000000\n",
       "int_rate       0.160727\n",
       "installment    0.148875\n",
       "verified       0.101174\n",
       "annual_inc    -0.058832\n",
       "grdCtoA       -0.153679\n",
       "Name: not_paid, dtype: float64"
      ]
     },
     "execution_count": 12,
     "metadata": {},
     "output_type": "execute_result"
    }
   ],
   "source": [
    "corr_matrix = nasabah.corr()\n",
    "corr_matrix['not_paid'].sort_values(ascending=False)"
   ]
  },
  {
   "cell_type": "markdown",
   "metadata": {},
   "source": [
    "# Preprocessing"
   ]
  },
  {
   "cell_type": "code",
   "execution_count": 13,
   "metadata": {},
   "outputs": [
    {
     "data": {
      "text/html": [
       "<div>\n",
       "<style scoped>\n",
       "    .dataframe tbody tr th:only-of-type {\n",
       "        vertical-align: middle;\n",
       "    }\n",
       "\n",
       "    .dataframe tbody tr th {\n",
       "        vertical-align: top;\n",
       "    }\n",
       "\n",
       "    .dataframe thead th {\n",
       "        text-align: right;\n",
       "    }\n",
       "</style>\n",
       "<table border=\"1\" class=\"dataframe\">\n",
       "  <thead>\n",
       "    <tr style=\"text-align: right;\">\n",
       "      <th></th>\n",
       "      <th>purpose</th>\n",
       "      <th>int_rate</th>\n",
       "      <th>installment</th>\n",
       "      <th>annual_inc</th>\n",
       "      <th>verified</th>\n",
       "      <th>home_ownership</th>\n",
       "      <th>grdCtoA</th>\n",
       "      <th>not_paid</th>\n",
       "    </tr>\n",
       "  </thead>\n",
       "  <tbody>\n",
       "    <tr>\n",
       "      <th>0</th>\n",
       "      <td>debt_consolidation</td>\n",
       "      <td>21.45</td>\n",
       "      <td>955.75</td>\n",
       "      <td>90000.0</td>\n",
       "      <td>1</td>\n",
       "      <td>MORTGAGE</td>\n",
       "      <td>0</td>\n",
       "      <td>1</td>\n",
       "    </tr>\n",
       "    <tr>\n",
       "      <th>1</th>\n",
       "      <td>debt_consolidation</td>\n",
       "      <td>18.06</td>\n",
       "      <td>289.47</td>\n",
       "      <td>65000.0</td>\n",
       "      <td>1</td>\n",
       "      <td>MORTGAGE</td>\n",
       "      <td>0</td>\n",
       "      <td>1</td>\n",
       "    </tr>\n",
       "    <tr>\n",
       "      <th>2</th>\n",
       "      <td>home_improvement</td>\n",
       "      <td>9.44</td>\n",
       "      <td>838.91</td>\n",
       "      <td>97400.0</td>\n",
       "      <td>1</td>\n",
       "      <td>MORTGAGE</td>\n",
       "      <td>1</td>\n",
       "      <td>1</td>\n",
       "    </tr>\n",
       "    <tr>\n",
       "      <th>3</th>\n",
       "      <td>home_improvement</td>\n",
       "      <td>10.42</td>\n",
       "      <td>214.55</td>\n",
       "      <td>60000.0</td>\n",
       "      <td>0</td>\n",
       "      <td>OWN</td>\n",
       "      <td>1</td>\n",
       "      <td>0</td>\n",
       "    </tr>\n",
       "    <tr>\n",
       "      <th>4</th>\n",
       "      <td>debt_consolidation</td>\n",
       "      <td>11.99</td>\n",
       "      <td>1024.52</td>\n",
       "      <td>150000.0</td>\n",
       "      <td>0</td>\n",
       "      <td>MORTGAGE</td>\n",
       "      <td>1</td>\n",
       "      <td>0</td>\n",
       "    </tr>\n",
       "  </tbody>\n",
       "</table>\n",
       "</div>"
      ],
      "text/plain": [
       "              purpose  int_rate  installment  annual_inc  verified  \\\n",
       "0  debt_consolidation     21.45       955.75     90000.0         1   \n",
       "1  debt_consolidation     18.06       289.47     65000.0         1   \n",
       "2    home_improvement      9.44       838.91     97400.0         1   \n",
       "3    home_improvement     10.42       214.55     60000.0         0   \n",
       "4  debt_consolidation     11.99      1024.52    150000.0         0   \n",
       "\n",
       "  home_ownership  grdCtoA  not_paid  \n",
       "0       MORTGAGE        0         1  \n",
       "1       MORTGAGE        0         1  \n",
       "2       MORTGAGE        1         1  \n",
       "3            OWN        1         0  \n",
       "4       MORTGAGE        1         0  "
      ]
     },
     "execution_count": 13,
     "metadata": {},
     "output_type": "execute_result"
    }
   ],
   "source": [
    "nasabah.head()"
   ]
  },
  {
   "cell_type": "code",
   "execution_count": 14,
   "metadata": {},
   "outputs": [
    {
     "data": {
      "text/plain": [
       "purpose           0\n",
       "int_rate          0\n",
       "installment       0\n",
       "annual_inc        0\n",
       "verified          0\n",
       "home_ownership    0\n",
       "grdCtoA           0\n",
       "not_paid          0\n",
       "dtype: int64"
      ]
     },
     "execution_count": 14,
     "metadata": {},
     "output_type": "execute_result"
    }
   ],
   "source": [
    "# check missing values\n",
    "nasabah.isnull().sum()"
   ]
  },
  {
   "cell_type": "code",
   "execution_count": 15,
   "metadata": {},
   "outputs": [
    {
     "data": {
      "text/html": [
       "<div>\n",
       "<style scoped>\n",
       "    .dataframe tbody tr th:only-of-type {\n",
       "        vertical-align: middle;\n",
       "    }\n",
       "\n",
       "    .dataframe tbody tr th {\n",
       "        vertical-align: top;\n",
       "    }\n",
       "\n",
       "    .dataframe thead th {\n",
       "        text-align: right;\n",
       "    }\n",
       "</style>\n",
       "<table border=\"1\" class=\"dataframe\">\n",
       "  <thead>\n",
       "    <tr style=\"text-align: right;\">\n",
       "      <th></th>\n",
       "      <th>int_rate</th>\n",
       "      <th>installment</th>\n",
       "      <th>annual_inc</th>\n",
       "      <th>verified</th>\n",
       "      <th>grdCtoA</th>\n",
       "      <th>not_paid</th>\n",
       "    </tr>\n",
       "  </thead>\n",
       "  <tbody>\n",
       "    <tr>\n",
       "      <th>0</th>\n",
       "      <td>21.45</td>\n",
       "      <td>955.75</td>\n",
       "      <td>90000.0</td>\n",
       "      <td>1</td>\n",
       "      <td>0</td>\n",
       "      <td>1</td>\n",
       "    </tr>\n",
       "    <tr>\n",
       "      <th>1</th>\n",
       "      <td>18.06</td>\n",
       "      <td>289.47</td>\n",
       "      <td>65000.0</td>\n",
       "      <td>1</td>\n",
       "      <td>0</td>\n",
       "      <td>1</td>\n",
       "    </tr>\n",
       "    <tr>\n",
       "      <th>2</th>\n",
       "      <td>9.44</td>\n",
       "      <td>838.91</td>\n",
       "      <td>97400.0</td>\n",
       "      <td>1</td>\n",
       "      <td>1</td>\n",
       "      <td>1</td>\n",
       "    </tr>\n",
       "    <tr>\n",
       "      <th>3</th>\n",
       "      <td>10.42</td>\n",
       "      <td>214.55</td>\n",
       "      <td>60000.0</td>\n",
       "      <td>0</td>\n",
       "      <td>1</td>\n",
       "      <td>0</td>\n",
       "    </tr>\n",
       "    <tr>\n",
       "      <th>4</th>\n",
       "      <td>11.99</td>\n",
       "      <td>1024.52</td>\n",
       "      <td>150000.0</td>\n",
       "      <td>0</td>\n",
       "      <td>1</td>\n",
       "      <td>0</td>\n",
       "    </tr>\n",
       "  </tbody>\n",
       "</table>\n",
       "</div>"
      ],
      "text/plain": [
       "   int_rate  installment  annual_inc  verified  grdCtoA  not_paid\n",
       "0     21.45       955.75     90000.0         1        0         1\n",
       "1     18.06       289.47     65000.0         1        0         1\n",
       "2      9.44       838.91     97400.0         1        1         1\n",
       "3     10.42       214.55     60000.0         0        1         0\n",
       "4     11.99      1024.52    150000.0         0        1         0"
      ]
     },
     "execution_count": 15,
     "metadata": {},
     "output_type": "execute_result"
    }
   ],
   "source": [
    "nasabah_num = nasabah.drop(['purpose', 'home_ownership'], axis=1)\n",
    "nasabah_num.head()"
   ]
  },
  {
   "cell_type": "code",
   "execution_count": 16,
   "metadata": {},
   "outputs": [
    {
     "data": {
      "text/html": [
       "<div>\n",
       "<style scoped>\n",
       "    .dataframe tbody tr th:only-of-type {\n",
       "        vertical-align: middle;\n",
       "    }\n",
       "\n",
       "    .dataframe tbody tr th {\n",
       "        vertical-align: top;\n",
       "    }\n",
       "\n",
       "    .dataframe thead th {\n",
       "        text-align: right;\n",
       "    }\n",
       "</style>\n",
       "<table border=\"1\" class=\"dataframe\">\n",
       "  <thead>\n",
       "    <tr style=\"text-align: right;\">\n",
       "      <th></th>\n",
       "      <th>purpose</th>\n",
       "      <th>home_ownership</th>\n",
       "    </tr>\n",
       "  </thead>\n",
       "  <tbody>\n",
       "    <tr>\n",
       "      <th>0</th>\n",
       "      <td>debt_consolidation</td>\n",
       "      <td>MORTGAGE</td>\n",
       "    </tr>\n",
       "    <tr>\n",
       "      <th>1</th>\n",
       "      <td>debt_consolidation</td>\n",
       "      <td>MORTGAGE</td>\n",
       "    </tr>\n",
       "    <tr>\n",
       "      <th>2</th>\n",
       "      <td>home_improvement</td>\n",
       "      <td>MORTGAGE</td>\n",
       "    </tr>\n",
       "    <tr>\n",
       "      <th>3</th>\n",
       "      <td>home_improvement</td>\n",
       "      <td>OWN</td>\n",
       "    </tr>\n",
       "    <tr>\n",
       "      <th>4</th>\n",
       "      <td>debt_consolidation</td>\n",
       "      <td>MORTGAGE</td>\n",
       "    </tr>\n",
       "  </tbody>\n",
       "</table>\n",
       "</div>"
      ],
      "text/plain": [
       "              purpose home_ownership\n",
       "0  debt_consolidation       MORTGAGE\n",
       "1  debt_consolidation       MORTGAGE\n",
       "2    home_improvement       MORTGAGE\n",
       "3    home_improvement            OWN\n",
       "4  debt_consolidation       MORTGAGE"
      ]
     },
     "execution_count": 16,
     "metadata": {},
     "output_type": "execute_result"
    }
   ],
   "source": [
    "nasabah_cat = nasabah[['purpose','home_ownership']]\n",
    "nasabah_cat.head()"
   ]
  },
  {
   "cell_type": "code",
   "execution_count": 17,
   "metadata": {},
   "outputs": [
    {
     "data": {
      "text/plain": [
       "debt_consolidation    808\n",
       "credit_card           247\n",
       "home_improvement      126\n",
       "major_purchase         40\n",
       "small_business         23\n",
       "Name: purpose, dtype: int64"
      ]
     },
     "execution_count": 17,
     "metadata": {},
     "output_type": "execute_result"
    }
   ],
   "source": [
    "nasabah_cat['purpose'].value_counts()"
   ]
  },
  {
   "cell_type": "code",
   "execution_count": 18,
   "metadata": {},
   "outputs": [
    {
     "data": {
      "text/plain": [
       "MORTGAGE    633\n",
       "RENT        458\n",
       "OWN         153\n",
       "Name: home_ownership, dtype: int64"
      ]
     },
     "execution_count": 18,
     "metadata": {},
     "output_type": "execute_result"
    }
   ],
   "source": [
    "nasabah_cat['home_ownership'].value_counts()"
   ]
  },
  {
   "cell_type": "markdown",
   "metadata": {},
   "source": [
    "## Change categorical using One Hot Encoding"
   ]
  },
  {
   "cell_type": "code",
   "execution_count": 19,
   "metadata": {},
   "outputs": [],
   "source": [
    "from future_encoders import OneHotEncoder"
   ]
  },
  {
   "cell_type": "code",
   "execution_count": 20,
   "metadata": {},
   "outputs": [
    {
     "data": {
      "text/html": [
       "<div>\n",
       "<style scoped>\n",
       "    .dataframe tbody tr th:only-of-type {\n",
       "        vertical-align: middle;\n",
       "    }\n",
       "\n",
       "    .dataframe tbody tr th {\n",
       "        vertical-align: top;\n",
       "    }\n",
       "\n",
       "    .dataframe thead th {\n",
       "        text-align: right;\n",
       "    }\n",
       "</style>\n",
       "<table border=\"1\" class=\"dataframe\">\n",
       "  <thead>\n",
       "    <tr style=\"text-align: right;\">\n",
       "      <th></th>\n",
       "      <th>purpose</th>\n",
       "    </tr>\n",
       "  </thead>\n",
       "  <tbody>\n",
       "    <tr>\n",
       "      <th>0</th>\n",
       "      <td>debt_consolidation</td>\n",
       "    </tr>\n",
       "    <tr>\n",
       "      <th>1</th>\n",
       "      <td>debt_consolidation</td>\n",
       "    </tr>\n",
       "    <tr>\n",
       "      <th>2</th>\n",
       "      <td>home_improvement</td>\n",
       "    </tr>\n",
       "    <tr>\n",
       "      <th>3</th>\n",
       "      <td>home_improvement</td>\n",
       "    </tr>\n",
       "    <tr>\n",
       "      <th>4</th>\n",
       "      <td>debt_consolidation</td>\n",
       "    </tr>\n",
       "  </tbody>\n",
       "</table>\n",
       "</div>"
      ],
      "text/plain": [
       "              purpose\n",
       "0  debt_consolidation\n",
       "1  debt_consolidation\n",
       "2    home_improvement\n",
       "3    home_improvement\n",
       "4  debt_consolidation"
      ]
     },
     "execution_count": 20,
     "metadata": {},
     "output_type": "execute_result"
    }
   ],
   "source": [
    "purpose_cat = nasabah_cat[['purpose']]\n",
    "purpose_cat.head()"
   ]
  },
  {
   "cell_type": "code",
   "execution_count": 21,
   "metadata": {},
   "outputs": [
    {
     "data": {
      "text/plain": [
       "array([[0., 1., 0., 0., 0.],\n",
       "       [0., 1., 0., 0., 0.],\n",
       "       [0., 0., 1., 0., 0.],\n",
       "       ...,\n",
       "       [1., 0., 0., 0., 0.],\n",
       "       [0., 1., 0., 0., 0.],\n",
       "       [0., 1., 0., 0., 0.]])"
      ]
     },
     "execution_count": 21,
     "metadata": {},
     "output_type": "execute_result"
    }
   ],
   "source": [
    "encoder = OneHotEncoder(sparse=False)\n",
    "purpose_cat_1hot = encoder.fit_transform(purpose_cat)\n",
    "purpose_cat_1hot"
   ]
  },
  {
   "cell_type": "code",
   "execution_count": 22,
   "metadata": {},
   "outputs": [
    {
     "data": {
      "text/plain": [
       "[array(['credit_card', 'debt_consolidation', 'home_improvement',\n",
       "        'major_purchase', 'small_business'], dtype=object)]"
      ]
     },
     "execution_count": 22,
     "metadata": {},
     "output_type": "execute_result"
    }
   ],
   "source": [
    "encoder.categories_"
   ]
  },
  {
   "cell_type": "markdown",
   "metadata": {},
   "source": [
    "## Pipeline"
   ]
  },
  {
   "cell_type": "code",
   "execution_count": 23,
   "metadata": {},
   "outputs": [],
   "source": [
    "from sklearn.pipeline import Pipeline\n",
    "from sklearn.preprocessing import Imputer\n",
    "from future_encoders import OneHotEncoder, ColumnTransformer"
   ]
  },
  {
   "cell_type": "code",
   "execution_count": 24,
   "metadata": {},
   "outputs": [],
   "source": [
    "num_attribs = ['int_rate', 'installment', 'annual_inc', 'verified', 'grdCtoA']\n",
    "cat_attribs = ['purpose', 'home_ownership']\n",
    "\n",
    "full_pipeline = ColumnTransformer([\n",
    "    (\"num\", Imputer(strategy=\"median\"), num_attribs),\n",
    "    (\"cat\", OneHotEncoder(), cat_attribs)\n",
    "])\n",
    "\n",
    "nasabah_prepared = full_pipeline.fit_transform(nasabah)"
   ]
  },
  {
   "cell_type": "code",
   "execution_count": 25,
   "metadata": {},
   "outputs": [
    {
     "data": {
      "text/plain": [
       "(1244, 13)"
      ]
     },
     "execution_count": 25,
     "metadata": {},
     "output_type": "execute_result"
    }
   ],
   "source": [
    "nasabah_prepared.shape"
   ]
  },
  {
   "cell_type": "code",
   "execution_count": 26,
   "metadata": {},
   "outputs": [],
   "source": [
    "X_train = nasabah_prepared\n",
    "y_train = nasabah['not_paid']"
   ]
  },
  {
   "cell_type": "markdown",
   "metadata": {},
   "source": [
    "# Liniear Regression Model"
   ]
  },
  {
   "cell_type": "code",
   "execution_count": 27,
   "metadata": {},
   "outputs": [
    {
     "data": {
      "text/plain": [
       "LinearRegression(copy_X=True, fit_intercept=True, n_jobs=1, normalize=False)"
      ]
     },
     "execution_count": 27,
     "metadata": {},
     "output_type": "execute_result"
    }
   ],
   "source": [
    "from sklearn.linear_model import LinearRegression\n",
    "\n",
    "lin_reg = LinearRegression()\n",
    "lin_reg.fit(X_train, y_train)"
   ]
  },
  {
   "cell_type": "markdown",
   "metadata": {},
   "source": [
    "# Test the model"
   ]
  },
  {
   "cell_type": "code",
   "execution_count": 28,
   "metadata": {},
   "outputs": [],
   "source": [
    "df_test = pd.read_csv('dataset1/test1.csv')"
   ]
  },
  {
   "cell_type": "code",
   "execution_count": 29,
   "metadata": {},
   "outputs": [
    {
     "data": {
      "text/html": [
       "<div>\n",
       "<style scoped>\n",
       "    .dataframe tbody tr th:only-of-type {\n",
       "        vertical-align: middle;\n",
       "    }\n",
       "\n",
       "    .dataframe tbody tr th {\n",
       "        vertical-align: top;\n",
       "    }\n",
       "\n",
       "    .dataframe thead th {\n",
       "        text-align: right;\n",
       "    }\n",
       "</style>\n",
       "<table border=\"1\" class=\"dataframe\">\n",
       "  <thead>\n",
       "    <tr style=\"text-align: right;\">\n",
       "      <th></th>\n",
       "      <th>Unnamed: 0</th>\n",
       "      <th>initial_list_status</th>\n",
       "      <th>purpose</th>\n",
       "      <th>int_rate</th>\n",
       "      <th>installment</th>\n",
       "      <th>annual_inc</th>\n",
       "      <th>dti</th>\n",
       "      <th>verification_status</th>\n",
       "      <th>grade</th>\n",
       "      <th>revol_bal</th>\n",
       "      <th>inq_last_12m</th>\n",
       "      <th>delinq_2yrs</th>\n",
       "      <th>home_ownership</th>\n",
       "      <th>not_paid</th>\n",
       "      <th>log_inc</th>\n",
       "      <th>verified</th>\n",
       "      <th>grdCtoA</th>\n",
       "    </tr>\n",
       "  </thead>\n",
       "  <tbody>\n",
       "    <tr>\n",
       "      <th>0</th>\n",
       "      <td>6</td>\n",
       "      <td>w</td>\n",
       "      <td>debt_consolidation</td>\n",
       "      <td>10.91</td>\n",
       "      <td>130.79</td>\n",
       "      <td>49000.0</td>\n",
       "      <td>5.12</td>\n",
       "      <td>Not Verified</td>\n",
       "      <td>B</td>\n",
       "      <td>2016</td>\n",
       "      <td>5</td>\n",
       "      <td>0</td>\n",
       "      <td>MORTGAGE</td>\n",
       "      <td>1</td>\n",
       "      <td>10.799576</td>\n",
       "      <td>0</td>\n",
       "      <td>1</td>\n",
       "    </tr>\n",
       "    <tr>\n",
       "      <th>1</th>\n",
       "      <td>8</td>\n",
       "      <td>w</td>\n",
       "      <td>credit_card</td>\n",
       "      <td>10.91</td>\n",
       "      <td>915.50</td>\n",
       "      <td>95000.0</td>\n",
       "      <td>33.11</td>\n",
       "      <td>Not Verified</td>\n",
       "      <td>B</td>\n",
       "      <td>27588</td>\n",
       "      <td>1</td>\n",
       "      <td>0</td>\n",
       "      <td>RENT</td>\n",
       "      <td>1</td>\n",
       "      <td>11.461632</td>\n",
       "      <td>0</td>\n",
       "      <td>1</td>\n",
       "    </tr>\n",
       "    <tr>\n",
       "      <th>2</th>\n",
       "      <td>9</td>\n",
       "      <td>w</td>\n",
       "      <td>home_improvement</td>\n",
       "      <td>17.09</td>\n",
       "      <td>713.96</td>\n",
       "      <td>150000.0</td>\n",
       "      <td>14.26</td>\n",
       "      <td>Source Verified</td>\n",
       "      <td>D</td>\n",
       "      <td>27024</td>\n",
       "      <td>8</td>\n",
       "      <td>0</td>\n",
       "      <td>MORTGAGE</td>\n",
       "      <td>1</td>\n",
       "      <td>11.918391</td>\n",
       "      <td>1</td>\n",
       "      <td>0</td>\n",
       "    </tr>\n",
       "    <tr>\n",
       "      <th>3</th>\n",
       "      <td>10</td>\n",
       "      <td>w</td>\n",
       "      <td>debt_consolidation</td>\n",
       "      <td>18.06</td>\n",
       "      <td>408.73</td>\n",
       "      <td>85000.0</td>\n",
       "      <td>17.66</td>\n",
       "      <td>Verified</td>\n",
       "      <td>D</td>\n",
       "      <td>11719</td>\n",
       "      <td>1</td>\n",
       "      <td>0</td>\n",
       "      <td>RENT</td>\n",
       "      <td>0</td>\n",
       "      <td>11.350407</td>\n",
       "      <td>1</td>\n",
       "      <td>0</td>\n",
       "    </tr>\n",
       "    <tr>\n",
       "      <th>4</th>\n",
       "      <td>26</td>\n",
       "      <td>w</td>\n",
       "      <td>debt_consolidation</td>\n",
       "      <td>18.06</td>\n",
       "      <td>578.93</td>\n",
       "      <td>40000.0</td>\n",
       "      <td>25.32</td>\n",
       "      <td>Source Verified</td>\n",
       "      <td>D</td>\n",
       "      <td>15264</td>\n",
       "      <td>2</td>\n",
       "      <td>0</td>\n",
       "      <td>RENT</td>\n",
       "      <td>1</td>\n",
       "      <td>10.596635</td>\n",
       "      <td>1</td>\n",
       "      <td>0</td>\n",
       "    </tr>\n",
       "  </tbody>\n",
       "</table>\n",
       "</div>"
      ],
      "text/plain": [
       "   Unnamed: 0 initial_list_status             purpose  int_rate  installment  \\\n",
       "0           6                   w  debt_consolidation     10.91       130.79   \n",
       "1           8                   w         credit_card     10.91       915.50   \n",
       "2           9                   w    home_improvement     17.09       713.96   \n",
       "3          10                   w  debt_consolidation     18.06       408.73   \n",
       "4          26                   w  debt_consolidation     18.06       578.93   \n",
       "\n",
       "   annual_inc    dti verification_status grade  revol_bal  inq_last_12m  \\\n",
       "0     49000.0   5.12        Not Verified     B       2016             5   \n",
       "1     95000.0  33.11        Not Verified     B      27588             1   \n",
       "2    150000.0  14.26     Source Verified     D      27024             8   \n",
       "3     85000.0  17.66            Verified     D      11719             1   \n",
       "4     40000.0  25.32     Source Verified     D      15264             2   \n",
       "\n",
       "   delinq_2yrs home_ownership  not_paid    log_inc  verified  grdCtoA  \n",
       "0            0       MORTGAGE         1  10.799576         0        1  \n",
       "1            0           RENT         1  11.461632         0        1  \n",
       "2            0       MORTGAGE         1  11.918391         1        0  \n",
       "3            0           RENT         0  11.350407         1        0  \n",
       "4            0           RENT         1  10.596635         1        0  "
      ]
     },
     "execution_count": 29,
     "metadata": {},
     "output_type": "execute_result"
    }
   ],
   "source": [
    "df_test.head()"
   ]
  },
  {
   "cell_type": "code",
   "execution_count": 30,
   "metadata": {},
   "outputs": [
    {
     "name": "stdout",
     "output_type": "stream",
     "text": [
      "<class 'pandas.core.frame.DataFrame'>\n",
      "RangeIndex: 312 entries, 0 to 311\n",
      "Data columns (total 17 columns):\n",
      "Unnamed: 0             312 non-null int64\n",
      "initial_list_status    312 non-null object\n",
      "purpose                312 non-null object\n",
      "int_rate               312 non-null float64\n",
      "installment            312 non-null float64\n",
      "annual_inc             312 non-null float64\n",
      "dti                    312 non-null float64\n",
      "verification_status    312 non-null object\n",
      "grade                  312 non-null object\n",
      "revol_bal              312 non-null int64\n",
      "inq_last_12m           312 non-null int64\n",
      "delinq_2yrs            312 non-null int64\n",
      "home_ownership         312 non-null object\n",
      "not_paid               312 non-null int64\n",
      "log_inc                312 non-null float64\n",
      "verified               312 non-null int64\n",
      "grdCtoA                312 non-null int64\n",
      "dtypes: float64(5), int64(7), object(5)\n",
      "memory usage: 41.5+ KB\n"
     ]
    }
   ],
   "source": [
    "df_test.info()"
   ]
  },
  {
   "cell_type": "code",
   "execution_count": 31,
   "metadata": {},
   "outputs": [
    {
     "data": {
      "text/html": [
       "<div>\n",
       "<style scoped>\n",
       "    .dataframe tbody tr th:only-of-type {\n",
       "        vertical-align: middle;\n",
       "    }\n",
       "\n",
       "    .dataframe tbody tr th {\n",
       "        vertical-align: top;\n",
       "    }\n",
       "\n",
       "    .dataframe thead th {\n",
       "        text-align: right;\n",
       "    }\n",
       "</style>\n",
       "<table border=\"1\" class=\"dataframe\">\n",
       "  <thead>\n",
       "    <tr style=\"text-align: right;\">\n",
       "      <th></th>\n",
       "      <th>purpose</th>\n",
       "      <th>int_rate</th>\n",
       "      <th>installment</th>\n",
       "      <th>annual_inc</th>\n",
       "      <th>verified</th>\n",
       "      <th>home_ownership</th>\n",
       "      <th>grdCtoA</th>\n",
       "      <th>not_paid</th>\n",
       "    </tr>\n",
       "  </thead>\n",
       "  <tbody>\n",
       "    <tr>\n",
       "      <th>0</th>\n",
       "      <td>debt_consolidation</td>\n",
       "      <td>10.91</td>\n",
       "      <td>130.79</td>\n",
       "      <td>49000.0</td>\n",
       "      <td>0</td>\n",
       "      <td>MORTGAGE</td>\n",
       "      <td>1</td>\n",
       "      <td>1</td>\n",
       "    </tr>\n",
       "    <tr>\n",
       "      <th>1</th>\n",
       "      <td>credit_card</td>\n",
       "      <td>10.91</td>\n",
       "      <td>915.50</td>\n",
       "      <td>95000.0</td>\n",
       "      <td>0</td>\n",
       "      <td>RENT</td>\n",
       "      <td>1</td>\n",
       "      <td>1</td>\n",
       "    </tr>\n",
       "    <tr>\n",
       "      <th>2</th>\n",
       "      <td>home_improvement</td>\n",
       "      <td>17.09</td>\n",
       "      <td>713.96</td>\n",
       "      <td>150000.0</td>\n",
       "      <td>1</td>\n",
       "      <td>MORTGAGE</td>\n",
       "      <td>0</td>\n",
       "      <td>1</td>\n",
       "    </tr>\n",
       "    <tr>\n",
       "      <th>3</th>\n",
       "      <td>debt_consolidation</td>\n",
       "      <td>18.06</td>\n",
       "      <td>408.73</td>\n",
       "      <td>85000.0</td>\n",
       "      <td>1</td>\n",
       "      <td>RENT</td>\n",
       "      <td>0</td>\n",
       "      <td>0</td>\n",
       "    </tr>\n",
       "    <tr>\n",
       "      <th>4</th>\n",
       "      <td>debt_consolidation</td>\n",
       "      <td>18.06</td>\n",
       "      <td>578.93</td>\n",
       "      <td>40000.0</td>\n",
       "      <td>1</td>\n",
       "      <td>RENT</td>\n",
       "      <td>0</td>\n",
       "      <td>1</td>\n",
       "    </tr>\n",
       "  </tbody>\n",
       "</table>\n",
       "</div>"
      ],
      "text/plain": [
       "              purpose  int_rate  installment  annual_inc  verified  \\\n",
       "0  debt_consolidation     10.91       130.79     49000.0         0   \n",
       "1         credit_card     10.91       915.50     95000.0         0   \n",
       "2    home_improvement     17.09       713.96    150000.0         1   \n",
       "3  debt_consolidation     18.06       408.73     85000.0         1   \n",
       "4  debt_consolidation     18.06       578.93     40000.0         1   \n",
       "\n",
       "  home_ownership  grdCtoA  not_paid  \n",
       "0       MORTGAGE        1         1  \n",
       "1           RENT        1         1  \n",
       "2       MORTGAGE        0         1  \n",
       "3           RENT        0         0  \n",
       "4           RENT        0         1  "
      ]
     },
     "execution_count": 31,
     "metadata": {},
     "output_type": "execute_result"
    }
   ],
   "source": [
    "nasabah_test = df_test[used_variables]\n",
    "nasabah_test.head()"
   ]
  },
  {
   "cell_type": "code",
   "execution_count": 32,
   "metadata": {},
   "outputs": [],
   "source": [
    "X_test = full_pipeline.fit_transform(nasabah_test)"
   ]
  },
  {
   "cell_type": "code",
   "execution_count": 33,
   "metadata": {},
   "outputs": [
    {
     "data": {
      "text/plain": [
       "(312, 13)"
      ]
     },
     "execution_count": 33,
     "metadata": {},
     "output_type": "execute_result"
    }
   ],
   "source": [
    "X_test.shape"
   ]
  },
  {
   "cell_type": "markdown",
   "metadata": {},
   "source": [
    "# Accuracy Score"
   ]
  },
  {
   "cell_type": "code",
   "execution_count": 34,
   "metadata": {},
   "outputs": [],
   "source": [
    "from sklearn.metrics import accuracy_score"
   ]
  },
  {
   "cell_type": "code",
   "execution_count": 35,
   "metadata": {},
   "outputs": [],
   "source": [
    "y_true = nasabah_test['not_paid']"
   ]
  },
  {
   "cell_type": "code",
   "execution_count": 36,
   "metadata": {},
   "outputs": [],
   "source": [
    "predict = np.rint(lin_reg.predict(X_test))"
   ]
  },
  {
   "cell_type": "code",
   "execution_count": 37,
   "metadata": {},
   "outputs": [
    {
     "data": {
      "text/plain": [
       "0.6089743589743589"
      ]
     },
     "execution_count": 37,
     "metadata": {},
     "output_type": "execute_result"
    }
   ],
   "source": [
    "accuracy_score(y_true, predict)"
   ]
  },
  {
   "cell_type": "markdown",
   "metadata": {},
   "source": [
    "## Question 5: \n",
    "Jika pada model regresi logistik diperoleh koefisien dari variabel gradeCtoA adalah -0.3298. Dengan mengasumsikan variabel lain konstan, berapa odds default (not_paid=1) untuk nasabah yang memiliki grad A-C (gradeCtoA=1) dibandingkan dengan nasabah yang memiliki grade loan lain? bulatkan hasil anda hingga 3 angka dibelakang koma (contoh : 4.323 atau 16.423)\n",
    "\n",
    "**Answer**:"
   ]
  },
  {
   "cell_type": "code",
   "execution_count": 38,
   "metadata": {},
   "outputs": [],
   "source": [
    "pass"
   ]
  },
  {
   "cell_type": "markdown",
   "metadata": {},
   "source": [
    "## Question 6\n",
    "Diberikan cross tabulasi hasil perbandingan nilai aktual dan prediksi menggunakan model regresi logistik berikut :\n",
    "\n",
    "|   |   |actual   |\n",
    "|----|:-:|:-:|---|---|\n",
    "|   |   | 0  | 1  |   |\n",
    "| predicted  | 0  | 93  | 54  |   |\n",
    "|   | 1  | 68  | 97  |   |\n",
    "\n",
    "Berapa nilai recall/sensitivity berdasarkan confusion matrix diatas?\n",
    "\n",
    "**Answer**: 0.6423841059602649"
   ]
  },
  {
   "cell_type": "code",
   "execution_count": 39,
   "metadata": {},
   "outputs": [
    {
     "data": {
      "text/plain": [
       "0.6423841059602649"
      ]
     },
     "execution_count": 39,
     "metadata": {},
     "output_type": "execute_result"
    }
   ],
   "source": [
    "recall = 97/(97+54)\n",
    "recall"
   ]
  },
  {
   "cell_type": "code",
   "execution_count": null,
   "metadata": {},
   "outputs": [],
   "source": []
  }
 ],
 "metadata": {
  "kernelspec": {
   "display_name": "Python 3",
   "language": "python",
   "name": "python3"
  },
  "language_info": {
   "codemirror_mode": {
    "name": "ipython",
    "version": 3
   },
   "file_extension": ".py",
   "mimetype": "text/x-python",
   "name": "python",
   "nbconvert_exporter": "python",
   "pygments_lexer": "ipython3",
   "version": "3.6.1"
  }
 },
 "nbformat": 4,
 "nbformat_minor": 2
}
